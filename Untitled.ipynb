{
 "cells": [
  {
   "cell_type": "code",
   "execution_count": 1,
   "id": "45ba5383-503d-4ad8-988a-22a915f0dc28",
   "metadata": {},
   "outputs": [
    {
     "name": "stdout",
     "output_type": "stream",
     "text": [
      "Requirement already satisfied: pandas in /opt/miniconda3/lib/python3.13/site-packages (2.3.0)\n",
      "Requirement already satisfied: geopandas in /opt/miniconda3/lib/python3.13/site-packages (1.1.0)\n",
      "Requirement already satisfied: matplotlib in /opt/miniconda3/lib/python3.13/site-packages (3.10.3)\n",
      "Requirement already satisfied: shapely in /opt/miniconda3/lib/python3.13/site-packages (2.1.1)\n",
      "Requirement already satisfied: fiona in /opt/miniconda3/lib/python3.13/site-packages (1.10.1)\n",
      "Requirement already satisfied: pyproj in /opt/miniconda3/lib/python3.13/site-packages (3.7.1)\n",
      "Requirement already satisfied: numpy>=1.26.0 in /opt/miniconda3/lib/python3.13/site-packages (from pandas) (2.3.0)\n",
      "Requirement already satisfied: python-dateutil>=2.8.2 in /opt/miniconda3/lib/python3.13/site-packages (from pandas) (2.9.0.post0)\n",
      "Requirement already satisfied: pytz>=2020.1 in /opt/miniconda3/lib/python3.13/site-packages (from pandas) (2025.2)\n",
      "Requirement already satisfied: tzdata>=2022.7 in /opt/miniconda3/lib/python3.13/site-packages (from pandas) (2025.2)\n",
      "Requirement already satisfied: pyogrio>=0.7.2 in /opt/miniconda3/lib/python3.13/site-packages (from geopandas) (0.11.0)\n",
      "Requirement already satisfied: packaging in /opt/miniconda3/lib/python3.13/site-packages (from geopandas) (24.2)\n",
      "Requirement already satisfied: contourpy>=1.0.1 in /opt/miniconda3/lib/python3.13/site-packages (from matplotlib) (1.3.2)\n",
      "Requirement already satisfied: cycler>=0.10 in /opt/miniconda3/lib/python3.13/site-packages (from matplotlib) (0.12.1)\n",
      "Requirement already satisfied: fonttools>=4.22.0 in /opt/miniconda3/lib/python3.13/site-packages (from matplotlib) (4.58.4)\n",
      "Requirement already satisfied: kiwisolver>=1.3.1 in /opt/miniconda3/lib/python3.13/site-packages (from matplotlib) (1.4.8)\n",
      "Requirement already satisfied: pillow>=8 in /opt/miniconda3/lib/python3.13/site-packages (from matplotlib) (11.2.1)\n",
      "Requirement already satisfied: pyparsing>=2.3.1 in /opt/miniconda3/lib/python3.13/site-packages (from matplotlib) (3.2.3)\n",
      "Requirement already satisfied: attrs>=19.2.0 in /opt/miniconda3/lib/python3.13/site-packages (from fiona) (25.3.0)\n",
      "Requirement already satisfied: certifi in /opt/miniconda3/lib/python3.13/site-packages (from fiona) (2025.4.26)\n",
      "Requirement already satisfied: click~=8.0 in /opt/miniconda3/lib/python3.13/site-packages (from fiona) (8.2.1)\n",
      "Requirement already satisfied: click-plugins>=1.0 in /opt/miniconda3/lib/python3.13/site-packages (from fiona) (1.1.1)\n",
      "Requirement already satisfied: cligj>=0.5 in /opt/miniconda3/lib/python3.13/site-packages (from fiona) (0.7.2)\n",
      "Requirement already satisfied: six>=1.5 in /opt/miniconda3/lib/python3.13/site-packages (from python-dateutil>=2.8.2->pandas) (1.17.0)\n"
     ]
    }
   ],
   "source": [
    "!pip install pandas geopandas matplotlib shapely fiona pyproj\n"
   ]
  },
  {
   "cell_type": "code",
   "execution_count": 15,
   "id": "a84535de-6398-4fe4-85da-707a630791c3",
   "metadata": {},
   "outputs": [
    {
     "ename": "ModuleNotFoundError",
     "evalue": "No module named 'geopandas'",
     "output_type": "error",
     "traceback": [
      "\u001b[31m---------------------------------------------------------------------------\u001b[39m",
      "\u001b[31mModuleNotFoundError\u001b[39m                       Traceback (most recent call last)",
      "\u001b[36mCell\u001b[39m\u001b[36m \u001b[39m\u001b[32mIn[15]\u001b[39m\u001b[32m, line 2\u001b[39m\n\u001b[32m      1\u001b[39m \u001b[38;5;28;01mimport\u001b[39;00m\u001b[38;5;250m \u001b[39m\u001b[34;01mpandas\u001b[39;00m\u001b[38;5;250m \u001b[39m\u001b[38;5;28;01mas\u001b[39;00m\u001b[38;5;250m \u001b[39m\u001b[34;01mpd\u001b[39;00m\n\u001b[32m----> \u001b[39m\u001b[32m2\u001b[39m \u001b[38;5;28;01mimport\u001b[39;00m\u001b[38;5;250m \u001b[39m\u001b[34;01mgeopandas\u001b[39;00m\u001b[38;5;250m \u001b[39m\u001b[38;5;28;01mas\u001b[39;00m\u001b[38;5;250m \u001b[39m\u001b[34;01mgpd\u001b[39;00m\n\u001b[32m      3\u001b[39m \u001b[38;5;28;01mimport\u001b[39;00m\u001b[38;5;250m \u001b[39m\u001b[34;01mmatplotlib\u001b[39;00m\u001b[34;01m.\u001b[39;00m\u001b[34;01mpyplot\u001b[39;00m\u001b[38;5;250m \u001b[39m\u001b[38;5;28;01mas\u001b[39;00m\u001b[38;5;250m \u001b[39m\u001b[34;01mplt\u001b[39;00m\n\u001b[32m      5\u001b[39m \u001b[38;5;66;03m# Laad datasets (gebruik jouw CSV-bestanden)\u001b[39;00m\n",
      "\u001b[31mModuleNotFoundError\u001b[39m: No module named 'geopandas'"
     ]
    }
   ],
   "source": [
    "import pandas as pd\n",
    "import geopandas as gpd\n",
    "import matplotlib.pyplot as plt\n",
    "\n",
    "# Laad datasets (gebruik jouw CSV-bestanden)\n",
    "co2_df = pd.read_csv(\"co-emissions-by-sector.csv\")\n",
    "ev_df = pd.read_csv(\"IEA-EV-dataEV salesHistoricalCars.csv\")\n",
    "\n",
    "# Filter CO2 voor 2020\n",
    "co2_2020 = co2_df[(co2_df[\"Year\"] == 2020) & (co2_df[\"Carbon dioxide emissions from transport\"].notna())]\n",
    "co2_2020 = co2_2020[[\"Entity\", \"Code\", \"Carbon dioxide emissions from transport\"]].copy()\n",
    "co2_2020.rename(columns={\"Carbon dioxide emissions from transport\": \"transport_co2\"}, inplace=True)\n",
    "\n",
    "# Filter EV-aandeel voor 2020\n",
    "ev_2020 = ev_df[\n",
    "    (ev_df['parameter'] == 'EV stock share') &\n",
    "    (ev_df['mode'] == 'Cars') &\n",
    "    (ev_df['powertrain'] == 'EV') &\n",
    "    (ev_df['year'] == 2020)\n",
    "][['region', 'value']].copy()\n",
    "ev_2020.rename(columns={'region': 'Entity', 'value': 'ev_share_percent'}, inplace=True)\n",
    "\n",
    "# Merge\n",
    "merged = pd.merge(co2_2020, ev_2020, on=\"Entity\", how=\"left\")\n",
    "\n",
    "# Wereldkaart\n",
    "world = gpd.read_file(gpd.datasets.get_path('naturalearth_lowres'))\n",
    "world['centroid'] = world.representative_point()\n",
    "world_map = world.merge(merged, left_on=\"name\", right_on=\"Entity\", how=\"left\")\n",
    "\n",
    "# Plot\n",
    "fig, ax = plt.subplots(figsize=(16, 10))\n",
    "world_map.plot(column='transport_co2', cmap='OrRd', linewidth=0.8, edgecolor='0.8',\n",
    "               legend=True, ax=ax, missing_kwds={\"color\": \"lightgrey\"},\n",
    "               legend_kwds={'label': \"Transport CO₂-uitstoot (ton, 2020)\", 'shrink': 0.6})\n",
    "\n",
    "for idx, row in world_map.iterrows():\n",
    "    if pd.notna(row['ev_share_percent']):\n",
    "        point = row['centroid']\n",
    "        ax.text(point.x, point.y, f\"{row['ev_share_percent']:.1f}%\", fontsize=6,\n",
    "                ha='center', va='center', color='black')\n",
    "\n",
    "ax.set_title('Wereldkaart: Transport CO₂-uitstoot per land (2020) en EV-aandeel (%)', fontsize=15)\n",
    "ax.axis('off')\n",
    "plt.tight_layout()\n",
    "plt.savefig(\"wereldkaart_transport_co2_ev_share_2020.png\", dpi=300)\n",
    "plt.show()"
   ]
  }
 ],
 "metadata": {
  "kernelspec": {
   "display_name": "Python (venv)",
   "language": "python",
   "name": "venv"
  },
  "language_info": {
   "codemirror_mode": {
    "name": "ipython",
    "version": 3
   },
   "file_extension": ".py",
   "mimetype": "text/x-python",
   "name": "python",
   "nbconvert_exporter": "python",
   "pygments_lexer": "ipython3",
   "version": "3.13.2"
  }
 },
 "nbformat": 4,
 "nbformat_minor": 5
}
