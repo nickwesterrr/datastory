{
 "cells": [
  {
   "cell_type": "code",
   "execution_count": null,
   "id": "a84535de-6398-4fe4-85da-707a630791c3",
   "metadata": {},
   "outputs": [],
   "source": [
    "dit is een test van sem"
   ]
  }
 ],
 "metadata": {
  "kernelspec": {
   "display_name": "Python (venv)",
   "language": "python",
   "name": "venv"
  },
  "language_info": {
   "codemirror_mode": {
    "name": "ipython",
    "version": 3
   },
   "file_extension": ".py",
   "mimetype": "text/x-python",
   "name": "python",
   "nbconvert_exporter": "python",
   "pygments_lexer": "ipython3",
   "version": "3.13.2"
  }
 },
 "nbformat": 4,
 "nbformat_minor": 5
}
